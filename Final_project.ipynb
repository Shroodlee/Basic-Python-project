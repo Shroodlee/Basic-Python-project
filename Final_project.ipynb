{
  "nbformat": 4,
  "nbformat_minor": 0,
  "metadata": {
    "colab": {
      "provenance": []
    },
    "kernelspec": {
      "name": "python3",
      "display_name": "Python 3"
    },
    "language_info": {
      "name": "python"
    }
  },
  "cells": [
    {
      "cell_type": "code",
      "source": [
        "DictData= {\"Nama pengawai\" :[],\n",
        "           \"Status Kerja\" :[],\n",
        "           \"Tahun Masuk\" :[],\n",
        "           \"Gaji\" :[]}\n",
        "\n"
      ],
      "metadata": {
        "id": "AhtREpSLK3W5"
      },
      "execution_count": null,
      "outputs": []
    },
    {
      "cell_type": "code",
      "source": [
        "\n",
        "import pandas as pd\n",
        "\n",
        "def da():\n",
        "  df = pd.DataFrame.from_dict(DictData)\n",
        "  print(df.head())"
      ],
      "metadata": {
        "id": "xR6CXBvJLXXS"
      },
      "execution_count": null,
      "outputs": []
    },
    {
      "cell_type": "code",
      "execution_count": null,
      "metadata": {
        "colab": {
          "base_uri": "https://localhost:8080/",
          "height": 870
        },
        "id": "2JBHzI39JXYT",
        "outputId": "20b257d7-2bca-4fbf-8cee-e00d1850634c"
      },
      "outputs": [
        {
          "output_type": "stream",
          "name": "stdout",
          "text": [
            "Selamat Datang di Sistem informasi Pegawai\n",
            "Silakan Memilih Menu:\n",
            "1. Tambah Pegawai\n",
            "2. Edit Pegawai\n",
            "3. Hapus Pegawai\n",
            "4. Tampil Pegawai\n",
            "3\n",
            "  Nama pengawai Status Kerja  Tahun Masuk   Gaji\n",
            "0          Jona          bos         1997  10000\n",
            "1                                    1997    100\n",
            "Pegawai mana mau dihapus?1\n",
            "Selamat Datang di Sistem informasi Pegawai\n",
            "Silakan Memilih Menu:\n",
            "1. Tambah Pegawai\n",
            "2. Edit Pegawai\n",
            "3. Hapus Pegawai\n",
            "4. Tampil Pegawai\n",
            "4\n",
            "  Nama pengawai Status Kerja  Tahun Masuk   Gaji\n",
            "0          Jona          bos         1997  10000\n",
            "Selamat Datang di Sistem informasi Pegawai\n",
            "Silakan Memilih Menu:\n",
            "1. Tambah Pegawai\n",
            "2. Edit Pegawai\n",
            "3. Hapus Pegawai\n",
            "4. Tampil Pegawai\n"
          ]
        },
        {
          "output_type": "error",
          "ename": "KeyboardInterrupt",
          "evalue": "ignored",
          "traceback": [
            "\u001b[0;31m---------------------------------------------------------------------------\u001b[0m",
            "\u001b[0;31mKeyboardInterrupt\u001b[0m                         Traceback (most recent call last)",
            "\u001b[0;32m<ipython-input-19-5c2df59c1de7>\u001b[0m in \u001b[0;36m<module>\u001b[0;34m\u001b[0m\n\u001b[1;32m      7\u001b[0m   \u001b[0mprint\u001b[0m\u001b[0;34m(\u001b[0m\u001b[0;34m\"3. Hapus Pegawai\"\u001b[0m\u001b[0;34m)\u001b[0m\u001b[0;34m\u001b[0m\u001b[0;34m\u001b[0m\u001b[0m\n\u001b[1;32m      8\u001b[0m   \u001b[0mprint\u001b[0m\u001b[0;34m(\u001b[0m\u001b[0;34m\"4. Tampil Pegawai\"\u001b[0m\u001b[0;34m)\u001b[0m\u001b[0;34m\u001b[0m\u001b[0;34m\u001b[0m\u001b[0m\n\u001b[0;32m----> 9\u001b[0;31m   \u001b[0mpilih\u001b[0m\u001b[0;34m=\u001b[0m \u001b[0mint\u001b[0m\u001b[0;34m(\u001b[0m\u001b[0minput\u001b[0m\u001b[0;34m(\u001b[0m\u001b[0;34m)\u001b[0m\u001b[0;34m)\u001b[0m\u001b[0;34m\u001b[0m\u001b[0;34m\u001b[0m\u001b[0m\n\u001b[0m\u001b[1;32m     10\u001b[0m \u001b[0;34m\u001b[0m\u001b[0m\n\u001b[1;32m     11\u001b[0m   \u001b[0;32mif\u001b[0m \u001b[0mpilih\u001b[0m \u001b[0;34m==\u001b[0m \u001b[0;36m1\u001b[0m \u001b[0;34m:\u001b[0m\u001b[0;34m\u001b[0m\u001b[0;34m\u001b[0m\u001b[0m\n",
            "\u001b[0;32m/usr/local/lib/python3.7/dist-packages/ipykernel/kernelbase.py\u001b[0m in \u001b[0;36mraw_input\u001b[0;34m(self, prompt)\u001b[0m\n\u001b[1;32m    861\u001b[0m             \u001b[0mself\u001b[0m\u001b[0;34m.\u001b[0m\u001b[0m_parent_ident\u001b[0m\u001b[0;34m,\u001b[0m\u001b[0;34m\u001b[0m\u001b[0;34m\u001b[0m\u001b[0m\n\u001b[1;32m    862\u001b[0m             \u001b[0mself\u001b[0m\u001b[0;34m.\u001b[0m\u001b[0m_parent_header\u001b[0m\u001b[0;34m,\u001b[0m\u001b[0;34m\u001b[0m\u001b[0;34m\u001b[0m\u001b[0m\n\u001b[0;32m--> 863\u001b[0;31m             \u001b[0mpassword\u001b[0m\u001b[0;34m=\u001b[0m\u001b[0;32mFalse\u001b[0m\u001b[0;34m,\u001b[0m\u001b[0;34m\u001b[0m\u001b[0;34m\u001b[0m\u001b[0m\n\u001b[0m\u001b[1;32m    864\u001b[0m         )\n\u001b[1;32m    865\u001b[0m \u001b[0;34m\u001b[0m\u001b[0m\n",
            "\u001b[0;32m/usr/local/lib/python3.7/dist-packages/ipykernel/kernelbase.py\u001b[0m in \u001b[0;36m_input_request\u001b[0;34m(self, prompt, ident, parent, password)\u001b[0m\n\u001b[1;32m    902\u001b[0m             \u001b[0;32mexcept\u001b[0m \u001b[0mKeyboardInterrupt\u001b[0m\u001b[0;34m:\u001b[0m\u001b[0;34m\u001b[0m\u001b[0;34m\u001b[0m\u001b[0m\n\u001b[1;32m    903\u001b[0m                 \u001b[0;31m# re-raise KeyboardInterrupt, to truncate traceback\u001b[0m\u001b[0;34m\u001b[0m\u001b[0;34m\u001b[0m\u001b[0;34m\u001b[0m\u001b[0m\n\u001b[0;32m--> 904\u001b[0;31m                 \u001b[0;32mraise\u001b[0m \u001b[0mKeyboardInterrupt\u001b[0m\u001b[0;34m(\u001b[0m\u001b[0;34m\"Interrupted by user\"\u001b[0m\u001b[0;34m)\u001b[0m \u001b[0;32mfrom\u001b[0m \u001b[0;32mNone\u001b[0m\u001b[0;34m\u001b[0m\u001b[0;34m\u001b[0m\u001b[0m\n\u001b[0m\u001b[1;32m    905\u001b[0m             \u001b[0;32mexcept\u001b[0m \u001b[0mException\u001b[0m \u001b[0;32mas\u001b[0m \u001b[0me\u001b[0m\u001b[0;34m:\u001b[0m\u001b[0;34m\u001b[0m\u001b[0;34m\u001b[0m\u001b[0m\n\u001b[1;32m    906\u001b[0m                 \u001b[0mself\u001b[0m\u001b[0;34m.\u001b[0m\u001b[0mlog\u001b[0m\u001b[0;34m.\u001b[0m\u001b[0mwarning\u001b[0m\u001b[0;34m(\u001b[0m\u001b[0;34m\"Invalid Message:\"\u001b[0m\u001b[0;34m,\u001b[0m \u001b[0mexc_info\u001b[0m\u001b[0;34m=\u001b[0m\u001b[0;32mTrue\u001b[0m\u001b[0;34m)\u001b[0m\u001b[0;34m\u001b[0m\u001b[0;34m\u001b[0m\u001b[0m\n",
            "\u001b[0;31mKeyboardInterrupt\u001b[0m: Interrupted by user"
          ]
        }
      ],
      "source": [
        "while (True) :\n",
        "\n",
        "  print(\"Selamat Datang di Sistem informasi Pegawai\")\n",
        "  print(\"Silakan Memilih Menu:\")\n",
        "  print(\"1. Tambah Pegawai\")\n",
        "  print(\"2. Edit Pegawai\")\n",
        "  print(\"3. Hapus Pegawai\")\n",
        "  print(\"4. Tampil Pegawai\")\n",
        "  pilih= int(input())\n",
        "  if pilih == 1 :\n",
        "    DictData['Nama pengawai'].append(input(\"Masukan Nama pengawai: \"))\n",
        "    DictData['Status Kerja'].append(input(\"Masukan Status: \"))\n",
        "    DictData['Tahun Masuk'].append(int(input(\"Masukan Tahun Masuk: \")))\n",
        "    DictData['Gaji'].append(int(input(\"Masukan gaji: \")))\n",
        "\n",
        "  elif pilih == 3 :\n",
        "    da()\n",
        "    pilihan= int(input('Pegawai mana mau dihapus?'))\n",
        "    DictData['Nama pengawai'].pop(pilihan)\n",
        "    DictData['Status Kerja'].pop(pilihan)\n",
        "    DictData['Tahun Masuk'].pop(pilihan)\n",
        "    DictData['Gaji'].pop(pilihan)\n",
        "\n",
        "  elif pilih == 2 :\n",
        "    da()\n",
        "    pilihan= int(input('Pegawai mana mau diganti?'))\n",
        "    DictData['Nama pengawai'][pilihan]=(input(\"Masukan Nama pengawai: \"))\n",
        "    DictData['Status Kerja'][pilihan]=(input(\"Masukan Status: \"))\n",
        "    DictData['Tahun Masuk'][pilihan]=(int(input(\"Masukan Tahun Masuk: \")))\n",
        "    DictData['Gaji'][pilihan]=(int(input(\"Masukan gaji: \")))\n",
        "\n",
        "  elif pilih == 4 :\n",
        "    da()"
      ]
    },
    {
      "cell_type": "code",
      "source": [
        "5DictData"
      ],
      "metadata": {
        "colab": {
          "base_uri": "https://localhost:8080/"
        },
        "id": "7RmF-M6mVUJH",
        "outputId": "1ec0bec8-340f-4a94-e0aa-8fa4274d24b7"
      },
      "execution_count": null,
      "outputs": [
        {
          "output_type": "execute_result",
          "data": {
            "text/plain": [
              "{'Nama pengawai': '2', 'Status Kerja': '3', 'Tahun Masuk': 4, 'Gaji': 5}"
            ]
          },
          "metadata": {},
          "execution_count": 50
        }
      ]
    },
    {
      "cell_type": "code",
      "source": [],
      "metadata": {
        "id": "QJPdkpYxWxU5"
      },
      "execution_count": null,
      "outputs": []
    }
  ]
}